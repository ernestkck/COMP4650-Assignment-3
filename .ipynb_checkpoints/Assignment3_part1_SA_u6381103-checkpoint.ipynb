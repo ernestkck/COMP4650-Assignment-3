{
 "cells": [
  {
   "cell_type": "markdown",
   "metadata": {},
   "source": [
    "# Assignment 3 Part 1: SA\n",
    "\n",
    "### This notebook contains two sections: \n",
    "\n",
    "### 1. The first is a brief tutorial on building a simple sentiment analyser on some toy data and is not marked. \n",
    "\n",
    "### 2. The second section contains questions for you to answer and is marked."
   ]
  },
  {
   "cell_type": "markdown",
   "metadata": {},
   "source": [
    "Tutorial: Sentiment Analysis on some textual data\n",
    "==="
   ]
  },
  {
   "cell_type": "markdown",
   "metadata": {},
   "source": [
    "Introduction and setup\n",
    "---"
   ]
  },
  {
   "cell_type": "markdown",
   "metadata": {},
   "source": [
    "The purpose of this tutorial is to guide you through the construction of a very basic sentiment analysis tool.\n",
    "We aim at detecting the polarity of a given text: is the attitude of the writer **positive** or **negative**.\n",
    "Texts such as `'This view is amazing'` are considered positive, whereas text as `'This view is horrible'` will be considered negative. Such a tool can be useful, for example, to detect if products reviews are positive or negative.\n",
    "The tool that we will construct starts from a very simple hypothesis: *it a text contains mainly positive words, then the general sentiment is positive; if the text contains mainly negative words, then the sentiment is negative*."
   ]
  },
  {
   "cell_type": "markdown",
   "metadata": {},
   "source": [
    "**Step 1:** For this purpose, we will use a sentiment lexicon: a list of words together with their polarity (*i.e.*, positive or negative).\n",
    "We use the lexicon described in \n",
    "`Minqing Hu and Bing Liu. \"Mining and Summarizing Customer Reviews.\" Proceedings of the ACM SIGKDD International Conference on Knowledge Discovery and Data Mining (KDD-2004), Aug 22-25, 2004, Seattle, Washington, USA.`,\n",
    "and available for [download here](http://www.cs.uic.edu/~liub/FBS/sentiment-analysis.html).  \n",
    "  \n",
    "In order to speed up this tutorial, we have downloaded the lexicon and pre-treated it (*i.e.*, we removed the header).\n",
    "Save into your current folder the two lexicon files: `sentiment-lexicon-positive-words.txt` and `sentiment-lexicon-negative-words.txt` (available on Wattle).\n",
    "Please note that some words in the lexicon are intentionally misspelled in order to accommodate common errors found in social media."
   ]
  },
  {
   "cell_type": "markdown",
   "metadata": {},
   "source": [
    "**Step 2:** We will require to verify if the words in the target text belong to the negative or to the positive lexicon.\n",
    "For this, we use the Python's powerful [NLTK (Natural Language Toolkit) module](http://www.nltk.org/).\n",
    "NLTK contains a comprehensive number of tools needed for natural text processing: tokenizers, stemmers, lemmatizers *etc.*\n",
    "In the following, we will use a tokenizer (a tool which splits natural language text into tokens - words) and a lemmatizer (a tool to reduce a word to its lemma - singular, masculine form for nouns, infinitive for verbs *etc.*)."
   ]
  },
  {
   "cell_type": "markdown",
   "metadata": {},
   "source": [
    "If you followed the installation instructions (or if you are working on a lab computer), the *nltk* module should already be installed, alongside with the additional required data that the tokenizer requires.\n",
    "If you work on your own laptop, you need to download this additional data by executing the code below.\n",
    "This will require a download of 23.3MB.  "
   ]
  },
  {
   "cell_type": "code",
   "execution_count": 1,
   "metadata": {},
   "outputs": [
    {
     "name": "stderr",
     "output_type": "stream",
     "text": [
      "[nltk_data] Downloading package wordnet to\n",
      "[nltk_data]     C:\\Users\\ernes\\AppData\\Roaming\\nltk_data...\n",
      "[nltk_data]   Package wordnet is already up-to-date!\n",
      "[nltk_data] Downloading package punkt to\n",
      "[nltk_data]     C:\\Users\\ernes\\AppData\\Roaming\\nltk_data...\n",
      "[nltk_data]   Package punkt is already up-to-date!\n"
     ]
    },
    {
     "data": {
      "text/plain": [
       "True"
      ]
     },
     "execution_count": 1,
     "metadata": {},
     "output_type": "execute_result"
    }
   ],
   "source": [
    "import nltk\n",
    "\n",
    "nltk.download('wordnet')\n",
    "nltk.download('punkt')"
   ]
  },
  {
   "cell_type": "markdown",
   "metadata": {},
   "source": [
    "We are now set up to start building our sentiment analysis tool."
   ]
  },
  {
   "cell_type": "markdown",
   "metadata": {},
   "source": [
    "Constructing a basic Sentiment Analysis tool\n",
    "---"
   ]
  },
  {
   "cell_type": "markdown",
   "metadata": {},
   "source": [
    "We start by initializing a set of positive and negative examples to work with. The examples were taken from [this sentiment analysis tutorial](http://www.laurentluce.com/posts/twitter-sentiment-analysis-using-python-and-nltk/)."
   ]
  },
  {
   "cell_type": "code",
   "execution_count": 2,
   "metadata": {},
   "outputs": [],
   "source": [
    "pos_tweets = [ 'I love this cars',\n",
    "               'This view is amazing',\n",
    "\t           'I feel great this morning',\n",
    "\t           'I am so excited about the concert',\n",
    "\t           'He is my best friend']\n",
    "\n",
    "neg_tweets = ['I do not like this car',\n",
    "              'This view is horrible',\n",
    "              'I feel tired this morning',\n",
    "              'I am not looking forward to the concert',\n",
    "              'He is my worst enemy']"
   ]
  },
  {
   "cell_type": "markdown",
   "metadata": {},
   "source": [
    "Next, we import the positive and the negative lexicons.\n",
    "The format of the lexicon files is one word per line.\n",
    "As we will lemmatize the words in the target text, we apply the same treatment to the words in the lexicon."
   ]
  },
  {
   "cell_type": "code",
   "execution_count": 3,
   "metadata": {},
   "outputs": [
    {
     "name": "stdout",
     "output_type": "stream",
     "text": [
      "We have 2006 positive words and 4783 negative words.\n"
     ]
    }
   ],
   "source": [
    "from nltk.stem.wordnet import WordNetLemmatizer\n",
    "\n",
    "# define the lemmatizer\n",
    "lmtzr = WordNetLemmatizer()\n",
    "\n",
    "# read the positive and negative lexicon in lists of words\n",
    "positive_words = [lmtzr.lemmatize(line.strip()) for line in open('sentiment-lexicon-positive-words.txt')]\n",
    "negative_words = [lmtzr.lemmatize(line.strip()) for line in open('sentiment-lexicon-negative-words.txt')]\n",
    "\n",
    "print(f'We have {len(positive_words)} positive words and {len(negative_words)} negative words.')"
   ]
  },
  {
   "cell_type": "markdown",
   "metadata": {},
   "source": [
    "We are going to preprocess the target texts:\n",
    "* the text is split into tokens (words) by using **nltk**;\n",
    "* each token is transformed to lowercase;\n",
    "* tokens are lemmatized;\n",
    "* tokens with fewer than 3 characters are filtered out, since there are likely to be errors or non-sentiment related words."
   ]
  },
  {
   "cell_type": "code",
   "execution_count": 4,
   "metadata": {},
   "outputs": [
    {
     "name": "stdout",
     "output_type": "stream",
     "text": [
      "['love', 'this', 'car']\n",
      "['this', 'view', 'amazing']\n",
      "['feel', 'great', 'this', 'morning']\n",
      "['excited', 'about', 'the', 'concert']\n",
      "['best', 'friend']\n",
      "['not', 'like', 'this', 'car']\n",
      "['this', 'view', 'horrible']\n",
      "['feel', 'tired', 'this', 'morning']\n",
      "['not', 'looking', 'forward', 'the', 'concert']\n",
      "['worst', 'enemy']\n"
     ]
    }
   ],
   "source": [
    "for words in pos_tweets + neg_tweets:\n",
    "    # tokenize and lemmatize the current tweet\n",
    "    tokens = nltk.word_tokenize(words)\n",
    "    tweet = [lmtzr.lemmatize(x.lower()) for x in tokens if len(x) >= 3]\n",
    "    \n",
    "    # print the tweet\n",
    "    print(tweet)"
   ]
  },
  {
   "cell_type": "markdown",
   "metadata": {},
   "source": [
    "In the end, for each text we compute a score:\n",
    "* if a given word is in the positive list, we add one to the score;\n",
    "* if the word is in the negative list, we subtract one from the score.\n",
    "\n",
    "In the end, if the score is greater than zero, the text is considered as positive. \n",
    "If it is less than zero, it is considered negative. \n",
    "If it is zero, the text is considered neutral."
   ]
  },
  {
   "cell_type": "markdown",
   "metadata": {},
   "source": [
    "The following code finds and outputs the positive and negative words in the texts. \n",
    "It computes the score and prints it out for each text."
   ]
  },
  {
   "cell_type": "code",
   "execution_count": 5,
   "metadata": {},
   "outputs": [
    {
     "name": "stdout",
     "output_type": "stream",
     "text": [
      "Tweet: \"I love this cars\", score: 1\n",
      "------------------------------------\n",
      "Tweet: \"This view is amazing\", score: 1\n",
      "------------------------------------\n",
      "Tweet: \"I feel great this morning\", score: 1\n",
      "------------------------------------\n",
      "Tweet: \"I am so excited about the concert\", score: 1\n",
      "------------------------------------\n",
      "Tweet: \"He is my best friend\", score: 1\n",
      "------------------------------------\n",
      "Tweet: \"I do not like this car\", score: 1\n",
      "------------------------------------\n",
      "Tweet: \"This view is horrible\", score: -1\n",
      "------------------------------------\n",
      "Tweet: \"I feel tired this morning\", score: -1\n",
      "------------------------------------\n",
      "Tweet: \"I am not looking forward to the concert\", score: 0\n",
      "------------------------------------\n",
      "Tweet: \"He is my worst enemy\", score: -2\n",
      "------------------------------------\n"
     ]
    }
   ],
   "source": [
    "# define the function that computes the sentiment score\n",
    "def get_sentiment_score(text):\n",
    "    # tokenize and lemmatize the current tweet\n",
    "    tokens = nltk.word_tokenize(text)\n",
    "    tweet = [lmtzr.lemmatize(x.lower()) for x in tokens if len(x) >= 3]\n",
    "\n",
    "    # calculate the sentiment score\n",
    "    score = 0\n",
    "    for word in tweet:\n",
    "        if word in positive_words:\n",
    "            score = score + 1\n",
    "            #print \"+1\", word\n",
    "        if word in negative_words:\n",
    "            score = score - 1\n",
    "            #print \"-1\", word\n",
    "    \n",
    "    return score\n",
    "\n",
    "# apply it on our example tweets\n",
    "for words in pos_tweets + neg_tweets:\n",
    "    print(f'Tweet: \"{words}\", score: {get_sentiment_score(words)}')\n",
    "    print('------------------------------------')"
   ]
  },
  {
   "cell_type": "markdown",
   "metadata": {},
   "source": [
    "We observe that all the positive examples have been detected as positive, because they contain positive words.\n",
    "Only 3 out of 5 negative examples were detected as such.\n",
    "In the case of *'I do not like this car'*, the word **like** is in the positive list, but in the text it is prefixed by **not** which changes the polarity.\n",
    "**like** is positive, but **not like** is negative.\n",
    "*'I am not looking forward to the concert'* does not contain any positive or negative words, even if the expression **not looking forward** has a negative connotation.\n",
    "This shows the limitations of our naive approach.\n",
    "These special cases should be taken into account."
   ]
  },
  {
   "cell_type": "markdown",
   "metadata": {},
   "source": [
    "## Loading the Twitter dataset\n",
    "To answer the assignment questions you will run your sentiment analyse on a dataset scraped from the Twitter API. This dataset is found in the twitter-dump.json.bz2 file, where each line is a single tweet.\n",
    "\n",
    "This data can be loaded into a python dict as follows:"
   ]
  },
  {
   "cell_type": "code",
   "execution_count": 6,
   "metadata": {
    "scrolled": true
   },
   "outputs": [
    {
     "name": "stdout",
     "output_type": "stream",
     "text": [
      "{\n",
      "    \"YoutubeID\": \"iS1g8G_njx8\",\n",
      "    \"_id\": {\n",
      "        \"$oid\": \"5398013792ccfc23ee6f74c7\"\n",
      "    },\n",
      "    \"contributors\": null,\n",
      "    \"coordinates\": null,\n",
      "    \"created_at\": {\n",
      "        \"$date\": \"2014-05-30T22:55:45.000+0200\"\n",
      "    },\n",
      "    \"entities\": {\n",
      "        \"hashtags\": [\n",
      "            {\n",
      "                \"indices\": [\n",
      "                    70,\n",
      "                    89\n",
      "                ],\n",
      "                \"text\": \"WatchProblemOnVEVO\"\n",
      "            },\n",
      "            {\n",
      "                \"indices\": [\n",
      "                    90,\n",
      "                    103\n",
      "                ],\n",
      "                \"text\": \"problemvideo\"\n",
      "            }\n",
      "        ],\n",
      "        \"symbols\": [],\n",
      "        \"urls\": [\n",
      "            {\n",
      "                \"display_url\": \"youtu.be/iS1g8G_njx8\",\n",
      "                \"expanded_url\": \"http://youtu.be/iS1g8G_njx8\",\n",
      "                \"indices\": [\n",
      "                    42,\n",
      "                    64\n",
      "                ],\n",
      "                \"url\": \"http://t.co/ji6ETHIFuf\"\n",
      "            }\n",
      "        ],\n",
      "        \"user_mentions\": [\n",
      "            {\n",
      "                \"id\": 34507480,\n",
      "                \"id_str\": \"34507480\",\n",
      "                \"indices\": [\n",
      "                    3,\n",
      "                    16\n",
      "                ],\n",
      "                \"name\": \"Ariana Grande\",\n",
      "                \"screen_name\": \"ArianaGrande\"\n",
      "            }\n",
      "        ]\n",
      "    },\n",
      "    \"favorite_count\": 0,\n",
      "    \"geo\": null,\n",
      "    \"id\": {\n",
      "        \"$numberLong\": \"472481511628111872\"\n",
      "    },\n",
      "    \"in_reply_to_screen_name\": null,\n",
      "    \"in_reply_to_status_id\": null,\n",
      "    \"in_reply_to_status_id_str\": null,\n",
      "    \"in_reply_to_user_id\": null,\n",
      "    \"in_reply_to_user_id_str\": null,\n",
      "    \"lang\": \"en\",\n",
      "    \"place\": null,\n",
      "    \"retweet_count\": 0,\n",
      "    \"retweeted_status\": {\n",
      "        \"contributors\": null,\n",
      "        \"coordinates\": null,\n",
      "        \"created_at\": {\n",
      "            \"$date\": \"2014-05-30T22:05:05.000+0200\"\n",
      "        },\n",
      "        \"entities\": {\n",
      "            \"hashtags\": [\n",
      "                {\n",
      "                    \"indices\": [\n",
      "                        52,\n",
      "                        71\n",
      "                    ],\n",
      "                    \"text\": \"WatchProblemOnVEVO\"\n",
      "                },\n",
      "                {\n",
      "                    \"indices\": [\n",
      "                        72,\n",
      "                        85\n",
      "                    ],\n",
      "                    \"text\": \"problemvideo\"\n",
      "                }\n",
      "            ],\n",
      "            \"symbols\": [],\n",
      "            \"urls\": [\n",
      "                {\n",
      "                    \"display_url\": \"youtu.be/iS1g8G_njx8\",\n",
      "                    \"expanded_url\": \"http://youtu.be/iS1g8G_njx8\",\n",
      "                    \"indices\": [\n",
      "                        24,\n",
      "                        46\n",
      "                    ],\n",
      "                    \"url\": \"http://t.co/ji6ETHIFuf\"\n",
      "                }\n",
      "            ],\n",
      "            \"user_mentions\": []\n",
      "        },\n",
      "        \"favorite_count\": 22358,\n",
      "        \"geo\": null,\n",
      "        \"id\": {\n",
      "            \"$numberLong\": \"472468761396932608\"\n",
      "        },\n",
      "        \"in_reply_to_screen_name\": null,\n",
      "        \"in_reply_to_status_id\": null,\n",
      "        \"in_reply_to_status_id_str\": null,\n",
      "        \"in_reply_to_user_id\": null,\n",
      "        \"in_reply_to_user_id_str\": null,\n",
      "        \"lang\": \"en\",\n",
      "        \"place\": null,\n",
      "        \"retweet_count\": 22872,\n",
      "        \"source\": \"<a href=\\\"http://twitter.com/download/iphone\\\" rel=\\\"nofollow\\\">Twitter for iPhone</a>\",\n",
      "        \"text\": \"here it is y'all ...... http://t.co/ji6ETHIFuf #WatchProblemOnVEVO #problemvideo\",\n",
      "        \"user\": {\n",
      "            \"created_at\": {\n",
      "                \"$date\": \"2009-04-23T04:56:31.000+0200\"\n",
      "            },\n",
      "            \"description\": \"working on a new album for my loves\",\n",
      "            \"favourites_count\": 9522,\n",
      "            \"followers_count\": 15483654,\n",
      "            \"friends_count\": 67815,\n",
      "            \"geo_enabled\": false,\n",
      "            \"id\": 34507480,\n",
      "            \"lang\": \"en\",\n",
      "            \"listed_count\": 39099,\n",
      "            \"location\": \"Honeymoon ave. \",\n",
      "            \"name\": \"Ariana Grande\",\n",
      "            \"profile_banner_url\": \"https://pbs.twimg.com/profile_banners/34507480/1399852554\",\n",
      "            \"protected\": false,\n",
      "            \"screen_name\": \"ArianaGrande\",\n",
      "            \"statuses_count\": 33736,\n",
      "            \"time_zone\": \"Pacific Time (US & Canada)\",\n",
      "            \"url\": \"http://smarturl.it/ArianaProblemiT\",\n",
      "            \"utc_offset\": -25200,\n",
      "            \"verified\": true\n",
      "        }\n",
      "    },\n",
      "    \"source\": \"<a href=\\\"http://twitter.com/download/iphone\\\" rel=\\\"nofollow\\\">Twitter for iPhone</a>\",\n",
      "    \"text\": \"RT @ArianaGrande: here it is y'all ...... http://t.co/ji6ETHIFuf #WatchProblemOnVEVO #problemvideo\",\n",
      "    \"user\": {\n",
      "        \"created_at\": {\n",
      "            \"$date\": \"2014-05-21T03:39:06.000+0200\"\n",
      "        },\n",
      "        \"description\": \"Rip Nanny\\u266111.11.13\\u2661\",\n",
      "        \"favourites_count\": 32,\n",
      "        \"followers_count\": 38,\n",
      "        \"friends_count\": 61,\n",
      "        \"geo_enabled\": false,\n",
      "        \"id\": {\n",
      "            \"$numberLong\": \"2556502655\"\n",
      "        },\n",
      "        \"lang\": \"en\",\n",
      "        \"listed_count\": 0,\n",
      "        \"location\": \"\",\n",
      "        \"name\": \"Ally\",\n",
      "        \"profile_banner_url\": \"https://pbs.twimg.com/profile_banners/2556502655/1401065330\",\n",
      "        \"protected\": false,\n",
      "        \"screen_name\": \"apetrakiann\",\n",
      "        \"statuses_count\": 51,\n",
      "        \"time_zone\": null,\n",
      "        \"url\": null,\n",
      "        \"utc_offset\": null,\n",
      "        \"verified\": false\n",
      "    }\n",
      "}\n"
     ]
    }
   ],
   "source": [
    "import bz2, json\n",
    "\n",
    "with bz2.BZ2File(\"./twitter-dump.json.bz2\", mode=\"r\") as reader:\n",
    "    jobj = [json.loads(line) for line in reader.readlines()]\n",
    "\n",
    "# Remove tweets with duplicate text\n",
    "unique_texts = set()\n",
    "unique_tweets = []\n",
    "for t in jobj:\n",
    "    if t['text'] in unique_texts:\n",
    "        continue\n",
    "    unique_texts.add(t['text'])\n",
    "    unique_tweets.append(t)\n",
    "jobj = unique_tweets\n",
    "    \n",
    "sample = jobj[0]\n",
    "print(json.dumps(sample, sort_keys=True, indent=4, separators=(',', ': ')))"
   ]
  },
  {
   "cell_type": "markdown",
   "metadata": {},
   "source": [
    "The meaning of the different fields are described [here](https://developer.twitter.com/en/docs/tweets/data-dictionary/overview/tweet-object).\n",
    "Let's take a look at some of the most important fields for our application:\n",
    "* **created_at** - represents the date at each the tweet was emitted. Here: \"2014-05-30T22:55:45.000+0200\";\n",
    "* **text** - is the actual text of the tweet. Here: \"RT @ArianaGrande: here it is y'all ...... http://t.co/ji6ETHIFuf #WatchProblemOnVEVO #problemvideo\";\n",
    "* **user** - information about the user that emitted the tweet. The field that we will be using is **id**, the id of the user. Here: '2556502655';\n",
    "* **in_reply_to_user_id** - the id of the user to which this tweets replies to. Here: null, hence this tweet is not a reply;\n",
    "* **retweeted_status** - encloses the tweet that the current tweet retweets. Here: this tweet is a retweet;\n",
    "* **YoutubeID** - the id of the Youtube video that the tweet is connected to. The text of the tweet contains a(n) (shortened) URL towards this video, such as 'iS1g8G_njx8'."
   ]
  },
  {
   "cell_type": "markdown",
   "metadata": {},
   "source": [
    "# <span style=\"color:blue\"> Assignment Questions (5 marks): Applying the analysis on real Twitter data</span>"
   ]
  },
  {
   "cell_type": "markdown",
   "metadata": {},
   "source": [
    "### Question 1 (1 point)\n",
    "\n",
    "Use the `get_sentiment_score(text)`, the sentiment scoring function defined before, and calculate the sentiment polarity of the tweets in the Twitter JSON dataset (jobj). \n",
    "Print the text of the 10 most positive tweets and the 10 most negative tweets. \n",
    "We consider that a tweet $t_1$ is more positive than another tweet $t_2$ when score of the former is higher than the score of the latter ($score(t_1) > score(t_2)$). \n",
    "Similarly, a tweet $t_1$ is more negative than $t_2$ when $score(t_1) < score(t_2)$.  "
   ]
  },
  {
   "cell_type": "code",
   "execution_count": 7,
   "metadata": {},
   "outputs": [
    {
     "name": "stdout",
     "output_type": "stream",
     "text": [
      "10 most positive tweets: \n",
      "1. Watch @ArianaGrande and @iggyazalea Problem Official music video here 👩💭🎬 http://t.co/hSpUIH9eK6 love love love love love love love 💖💖💖💖😂 (score = 6)\n",
      "2. RT @PerrieAndSmile: It's perfect, Amazing, fantastic, WOW!💜I love u💕 http://t.co/dKDHDhdOgF\n",
      "Please follow me gorgeous!👑@ArianaGrande \n",
      "#Watc… (score = 6)\n",
      "3. It's perfect, Amazing, fantastic, WOW!💜I love u💕 http://t.co/dKDHDhdOgF\n",
      "Please follow me gorgeous!👑@ArianaGrande \n",
      "#WatchProblemOnVEVO x56 (score = 6)\n",
      "4. It's perfect, Amazing, fantastic, WOW!💜I love u💕 http://t.co/dKDHDhdOgF\n",
      "Please follow me gorgeous!👑@ArianaGrande \n",
      "#WatchProblemOnVEVO x87 (score = 6)\n",
      "5. It's perfect, Amazing, fantastic, WOW!💜I love u💕 http://t.co/dKDHDhdOgF\n",
      "Please follow me gorgeous!👑@ArianaGrande \n",
      "#WatchProblemOnVEVO x88 (score = 6)\n",
      "6. @ArianaGrande i loved #problemvideo follow me i love you , makes me smile http://t.co/aXCrDVD51q   is the best   #WatchProblemOnVEVO xeeff (score = 4)\n",
      "7. Thank you Ariana for always making me smile and feeling happy! i love you💕💕 http://t.co/aCJ3iti2Ss   #WatchProblemOnVEVO @ArianaGrande x24 (score = 4)\n",
      "8. Wow!  @ArianaGrande You did a great job! Im so proud of you loves!  http://t.co/dSkFOaAVat  #WatchProblemOnVEVO\n",
      "Guys you should watch it! x (score = 4)\n",
      "9. Thank you Ariana for always making me smile and feeling happy! i love you💕💕 http://t.co/aCJ3iti2Ss   #WatchProblemOnVEVO @ArianaGrande x25 (score = 4)\n",
      "10. Thank you Ariana for always making me smile and feeling happy! i love you💕💕 http://t.co/aCJ3iti2Ss   #WatchProblemOnVEVO @ArianaGrande x26 (score = 4)\n",
      "\n",
      "10 most negative tweets: \n",
      "1. @ArianaGrande Problem slays my life. Problem slays your life. Problem over everything. Problem slays. https://t.co/b0jyBCGpXn (score = -4)\n",
      "2. RT @zaynmgirl: one less problem without ya I got one less problem without ya I got one less problem without ya https://t.co/0tLoIbAVcc (score = -3)\n",
      "3. Ariana Grande - Problem ft. Iggy Azalea omg I died when I saw it amazingg!! #problem  http://t.co/4RXDEqqb7w (score = -3)\n",
      "4. Ariana Grande - Problem ft. Iggy Azalea: http://t.co/RJioyyg2ZK  Attention! lets try to get problem to break the record #WatchProblemOnVEVO (score = -3)\n",
      "5. I hate those comments that are negative in Ariana's #problemvideo FUCK OFF!! http://t.co/cl6hTuPRLr (score = -3)\n",
      "6. RT @_ilysm_Ari: ARIANATORS RT AND SPREAD THE WORLD\n",
      "Problem broke an iTunes record time to break a vevo record. #WatchProblemOnVEVO https://… (score = -3)\n",
      "7. TWEET THE FUCKING LINK WITH THE HASHTAG. NO ONES GONNA FUCKING GOOGLE THAT SHIT TO FIND IT. http://t.co/Ktrjp69N7E #WatchProblemOnVEVO (score = -3)\n",
      "8. @ArianaGrande I'm addicted to the video problem, you can follow me? Pls realize my dream! http://t.co/b23vnVhbuA #WatchProblemOnVEVO x128 (score = -2)\n",
      "9. @ArianaGrande I'm addicted to the video problem, you can follow me? Pls realize my dream! http://t.co/mu6j6gNI2w #WatchProblemOnVEVO 172 (score = -2)\n",
      "10. @ArianaGrande I'm addicted to the video problem, you can follow me? Pls realize my dream! http://t.co/b23vnVhbuA #WatchProblemOnVEVO x129 (score = -2)\n"
     ]
    }
   ],
   "source": [
    "pos_scores = [-9999 for i in range (10)]\n",
    "neg_scores = [9999 for i in range (10)]\n",
    "pos_tweets = ['' for i in range (10)]\n",
    "neg_tweets = ['' for i in range (10)]\n",
    "\n",
    "for t in jobj:\n",
    "    score = get_sentiment_score(t['text'])\n",
    "    for i in range(10):\n",
    "        if score > pos_scores[i]:\n",
    "            pos_scores[i] = score\n",
    "            pos_tweets[i] = t['text']\n",
    "            break\n",
    "    for i in range(10):\n",
    "        if score < neg_scores[i]:\n",
    "            neg_scores[i] = score\n",
    "            neg_tweets[i] = t['text']\n",
    "            break\n",
    "\n",
    "print(\"10 most positive tweets: \")\n",
    "for i in range(10):\n",
    "    print(str(i+1) +\". \" + pos_tweets[i] + ' (score = ' + str(pos_scores[i]) + ')')\n",
    "    \n",
    "print(\"\\n10 most negative tweets: \")\n",
    "for i in range(10):\n",
    "    print(str(i+1) +\". \" + neg_tweets[i] + ' (score = ' + str(neg_scores[i]) + ')')\n"
   ]
  },
  {
   "cell_type": "markdown",
   "metadata": {},
   "source": [
    "### Question 2 (1 point)\n",
    "\n",
    "Based on the scores calculated in question 1, determine and print the id of the 3 most positive users. A user $u_1$ is more positive than a user $u_2$ if the dataset contains more positive tweets emitted by $u_1$ than tweets emitted by $u_2$. Formally:\n",
    "$$ positivity(u_1) > positivity(u_2) \\iff \\left| \\left\\{ t \\, \\middle| \\, author(t) = u_1 \\wedge score(t) > 0 \\right\\} \\right| > \\left| \\left\\{ t \\, \\middle| \\, author(t) = u_2 \\wedge score(t) > 0 \\right\\} \\right|$$"
   ]
  },
  {
   "cell_type": "code",
   "execution_count": 8,
   "metadata": {},
   "outputs": [
    {
     "name": "stdout",
     "output_type": "stream",
     "text": [
      "3 most positive users: \n",
      "1. 1601537689 (score = 25)\n",
      "2. 1243188937 (score = 22)\n",
      "3. 2229663685 (score = 21)\n"
     ]
    }
   ],
   "source": [
    "# In this dataset, some users have different format IDs, here is a function that converts them to an integer.\n",
    "def get_id(id):\n",
    "    if not isinstance(id, int):\n",
    "        id = id['$numberLong']\n",
    "    return int(id)\n",
    "\n",
    "# YOUR CODE HERE\n",
    "users = {}\n",
    "for t in jobj:\n",
    "    score = get_sentiment_score(t['text'])\n",
    "    # ignore negative tweets\n",
    "    if score <= 0:\n",
    "        continue\n",
    "    uid = get_id(t['user']['id'])\n",
    "    if uid in users:\n",
    "        users[uid] += 1\n",
    "    else:\n",
    "        users[uid] = 1\n",
    "        \n",
    "sorted_dict = sorted(users, key=users.__getitem__, reverse=True)\n",
    "print(\"3 most positive users: \")\n",
    "for i in range(3):\n",
    "    uid = sorted_dict[i]\n",
    "    print(str(i+1) + \". \" + str(uid) +' (score = ' + str(users[uid])+')')"
   ]
  },
  {
   "cell_type": "markdown",
   "metadata": {},
   "source": [
    "### Question 3 (1.5 points)\n",
    "\n",
    "### Part A (1 points)\n",
    "\n",
    "We have discussed earlier that our system is fragile to negations: it will score the expression *not beautiful* as positive because it only detects the word beautiful as positive. \n",
    "More generally, we consider that the token **not** changes the polarity of a given token: **not beautiful** becomes negative, while **not bad** becomes positive.  \n",
    "Modify the function `get_sentiment_score(text)` to detect the changes of polarity due to the token **not**."
   ]
  },
  {
   "cell_type": "code",
   "execution_count": 9,
   "metadata": {},
   "outputs": [],
   "source": [
    "def get_negated_sentiment_score(text):\n",
    "    # tokenize and lemmatize the current tweet\n",
    "    tokens = nltk.word_tokenize(text)\n",
    "    tweet = [lmtzr.lemmatize(x.lower()) for x in tokens if len(x) >= 3]\n",
    "\n",
    "    # calculate the sentiment score\n",
    "    score = 0\n",
    "    add_score = 1\n",
    "    for word in tweet:\n",
    "        if word == 'not':\n",
    "            add_score = -1\n",
    "            continue\n",
    "\n",
    "        if word in positive_words:\n",
    "            score = score + add_score\n",
    "        if word in negative_words:\n",
    "            score = score - add_score\n",
    "            \n",
    "        add_score = 1\n",
    "\n",
    "    return score"
   ]
  },
  {
   "cell_type": "markdown",
   "metadata": {},
   "source": [
    "### Part B (0.5 points)\n",
    "\n",
    "Use the new get_negated_sentiment score to find the 3 most positive users, as in question 2. Do you get different users this time, compared to your results in question 2?"
   ]
  },
  {
   "cell_type": "code",
   "execution_count": 10,
   "metadata": {},
   "outputs": [
    {
     "name": "stdout",
     "output_type": "stream",
     "text": [
      "3 most positive users: \n",
      "1. 1601537689 (score = 25)\n",
      "2. 1243188937 (score = 22)\n",
      "3. 2229663685 (score = 21)\n"
     ]
    }
   ],
   "source": [
    "# In this dataset, some users have different format IDs, here is a function that converts them to an integer.\n",
    "def get_id(id):\n",
    "    if not isinstance(id, int):\n",
    "        id = id['$numberLong']\n",
    "    return id\n",
    "\n",
    "# YOUR CODE HERE\n",
    "users = {}\n",
    "for t in jobj:\n",
    "    score = get_negated_sentiment_score(t['text'])\n",
    "    # ignore negative tweets\n",
    "    if score <= 0:\n",
    "        continue\n",
    "    uid = get_id(t['user']['id'])\n",
    "    if uid in users:\n",
    "        users[uid] += 1\n",
    "    else:\n",
    "        users[uid] = 1\n",
    "        \n",
    "sorted_dict = sorted(users, key=users.__getitem__, reverse=True)\n",
    "print(\"3 most positive users: \")\n",
    "for i in range(3):\n",
    "    uid = sorted_dict[i]\n",
    "    print(str(i+1) + \". \" + str(uid) +' (score = ' + str(users[uid])+')')"
   ]
  },
  {
   "cell_type": "markdown",
   "metadata": {},
   "source": [
    "We get the same 3 most positive users in question 2."
   ]
  },
  {
   "cell_type": "markdown",
   "metadata": {},
   "source": [
    "### Question 4 (1.5 points)\n",
    "\n",
    "Plot the temporal evolution of the counts of positive and negative tweets. The date a tweet was emitted is found in the field *created_at*. \n",
    "Divide the temporal extent of your dataset into 100 timeslices. \n",
    "The temporal extent of the dataset is from the creation date of the first tweet to the creation date of the last tweet. \n",
    "Count how many positive and how many negative tweets you have in each timeslice. \n",
    "Plot these counts on a graphic resembling this one:\n",
    "\n",
    "![caption](files/desired-plot.png)  \n",
    "**HINT:** the graphic above is not based on real data. Your actual curves might **NOT** look like this one. Its purpose is just to show you the expected form of the graphic.\n",
    "\n",
    "**HINT:** the latest 3 tweets (3 tweets with the most recent created_at dates) are outlier dates and need to be removed, otherwise your plot will be highly skewed.\n",
    "\n",
    "**You need to** produce two plots, one `using get_sentiment_score` and one using `get_negated_sentiment_score`."
   ]
  },
  {
   "cell_type": "code",
   "execution_count": 11,
   "metadata": {},
   "outputs": [],
   "source": [
    "%matplotlib inline\n",
    "import matplotlib\n",
    "import matplotlib.pyplot as plt\n",
    "from datetime import datetime, timedelta\n",
    "import numpy as np"
   ]
  },
  {
   "cell_type": "code",
   "execution_count": 12,
   "metadata": {
    "scrolled": false
   },
   "outputs": [],
   "source": [
    "# Here is a function which converts date strings into datetime objects.\n",
    "def get_date(date):\n",
    "    date = datetime.strptime(date['$date'], '%Y-%m-%dT%H:%M:%S.%f+0200')\n",
    "    return date\n",
    "    \n",
    "# YOUR CODE HERE\n",
    "dates = np.zeros((len(jobj)), dtype=datetime)\n",
    "sentiment_scores = np.zeros((len(jobj)))\n",
    "negated_sentiment_scores = np.zeros((len(jobj)))\n",
    "removed = 0\n",
    "for i in range(len(jobj)):\n",
    "    dates[i] = get_date(jobj[i]['created_at'])\n",
    "    sentiment_scores[i] = get_sentiment_score(jobj[i]['text'])\n",
    "    negated_sentiment_scores[i] = get_negated_sentiment_score(jobj[i]['text'])\n",
    "\n",
    "# remove the latest 3 tweets\n",
    "for i in range(3):\n",
    "    latest = np.argmax(dates)\n",
    "    dates = np.delete(dates, latest)\n",
    "    sentiment_scores = np.delete(sentiment_scores, latest)\n",
    "    negated_sentiment_scores = np.delete(negated_sentiment_scores, latest)    \n",
    "\n",
    "# sort in ascending order of time\n",
    "order = dates.argsort()\n",
    "dates = dates[order]\n",
    "sentiment_scores = sentiment_scores[order]\n",
    "negated_sentiment_scores = negated_sentiment_scores[order]\n",
    "\n",
    "# construct indices (time slices)\n",
    "interval = (dates[len(dates)-1] - dates[0])/100\n",
    "indices = []\n",
    "indices.append(dates[0])\n",
    "for i in range(99):\n",
    "    indices.append(indices[i]+interval)\n",
    "\n",
    "\n",
    "# count number of positive and negative tweets in every interval\n",
    "counts = np.zeros((100,2))\n",
    "counts_negated = np.zeros((100,2))\n",
    "s = 0\n",
    "next_interval = dates[0] + interval\n",
    "for i in range(len(dates)):\n",
    "    if dates[i] > next_interval:\n",
    "        next_interval += interval\n",
    "        s += 1\n",
    "    if sentiment_scores[i] > 0:\n",
    "        counts[s][0] += 1\n",
    "    elif sentiment_scores[i] < 0:\n",
    "        counts[s][1] += 1\n",
    "    if negated_sentiment_scores[i] > 0:\n",
    "        counts_negated[s][0] += 1\n",
    "    elif negated_sentiment_scores[i] < 0:\n",
    "        counts_negated[s][1] += 1"
   ]
  },
  {
   "cell_type": "markdown",
   "metadata": {},
   "source": [
    "## Plot of get_sentiment_score"
   ]
  },
  {
   "cell_type": "code",
   "execution_count": 13,
   "metadata": {},
   "outputs": [
    {
     "data": {
      "image/png": "[encoded data removed]",
      "text/plain": [
       "<Figure size 864x576 with 1 Axes>"
      ]
     },
     "metadata": {
      "needs_background": "light"
     },
     "output_type": "display_data"
    }
   ],
   "source": [
    "# Graph for using get_sentiment_score\n",
    "plt.figure(figsize=(12, 8))\n",
    "locator = matplotlib.dates.AutoDateLocator()\n",
    "plt.gca().xaxis.set_major_locator(locator)\n",
    "plt.gca().xaxis.set_major_formatter(matplotlib.dates.AutoDateFormatter(locator))\n",
    "plt.plot(indices, counts.T[0], color=\"Red\")\n",
    "plt.plot(indices, counts.T[1], color=\"Blue\")\n",
    "plt.title(\"Positive and negative tweets counts vs. time\", fontsize=20)\n",
    "plt.legend((\"positive tweets\", \"negative tweets\"), fontsize=16)\n",
    "plt.xlabel('Time', fontsize=16)\n",
    "plt.ylabel('Count of tweets', fontsize=16)\n",
    "plt.gca().grid(linestyle='--')\n",
    "plt.show()"
   ]
  },
  {
   "cell_type": "markdown",
   "metadata": {},
   "source": [
    "## Plot of get_negated_sentiment_score"
   ]
  },
  {
   "cell_type": "code",
   "execution_count": 14,
   "metadata": {},
   "outputs": [
    {
     "data": {
      "image/png": "[encoded data removed]",
      "text/plain": [
       "<Figure size 864x576 with 1 Axes>"
      ]
     },
     "metadata": {
      "needs_background": "light"
     },
     "output_type": "display_data"
    }
   ],
   "source": [
    "# Graph for using get_negated_sentiment_score\n",
    "plt.figure(figsize=(12, 8))\n",
    "locator = matplotlib.dates.AutoDateLocator()\n",
    "plt.gca().xaxis.set_major_locator(locator)\n",
    "plt.gca().xaxis.set_major_formatter(matplotlib.dates.AutoDateFormatter(locator))\n",
    "plt.plot(indices, counts_negated.T[0], color=\"Red\")\n",
    "plt.plot(indices, counts_negated.T[1], color=\"Blue\")\n",
    "plt.title(\"Positive and negative tweets counts vs. time\", fontsize=20)\n",
    "plt.legend((\"positive tweets\", \"negative tweets\"), fontsize=16)\n",
    "plt.xlabel('Time', fontsize=16)\n",
    "plt.ylabel('Count of tweets', fontsize=16)\n",
    "plt.gca().grid(linestyle='--')\n",
    "plt.show()"
   ]
  }
 ],
 "metadata": {
  "kernelspec": {
   "display_name": "Python 3",
   "language": "python",
   "name": "python3"
  },
  "language_info": {
   "codemirror_mode": {
    "name": "ipython",
    "version": 3
   },
   "file_extension": ".py",
   "mimetype": "text/x-python",
   "name": "python",
   "nbconvert_exporter": "python",
   "pygments_lexer": "ipython3",
   "version": "3.7.3"
  }
 },
 "nbformat": 4,
 "nbformat_minor": 1
}
